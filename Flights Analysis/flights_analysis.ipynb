{
 "cells": [
  {
   "cell_type": "markdown",
   "metadata": {},
   "source": [
    "# Analyzing flights from Toronto to Harare"
   ]
  },
  {
   "cell_type": "markdown",
   "metadata": {},
   "source": [
    "### Data sources\n",
    "* yyz_to_hre_flights.xlsx manually generated from PDF file of flights from Expedia (18 December 2021 - 1 January 2021)"
   ]
  },
  {
   "cell_type": "code",
   "execution_count": 1,
   "metadata": {},
   "outputs": [],
   "source": [
    "#Importing the libraries\n",
    "import pandas as pd\n",
    "import datetime as dt\n",
    "import numpy as np\n",
    "import seaborn as sns\n",
    "import matplotlib.pyplot as plt\n",
    "from scipy import stats\n",
    "import dataframe_image"
   ]
  },
  {
   "cell_type": "code",
   "execution_count": 2,
   "metadata": {},
   "outputs": [
    {
     "data": {
      "text/html": [
       "<div>\n",
       "<style scoped>\n",
       "    .dataframe tbody tr th:only-of-type {\n",
       "        vertical-align: middle;\n",
       "    }\n",
       "\n",
       "    .dataframe tbody tr th {\n",
       "        vertical-align: top;\n",
       "    }\n",
       "\n",
       "    .dataframe thead th {\n",
       "        text-align: right;\n",
       "    }\n",
       "</style>\n",
       "<table border=\"1\" class=\"dataframe\">\n",
       "  <thead>\n",
       "    <tr style=\"text-align: right;\">\n",
       "      <th></th>\n",
       "      <th>ID</th>\n",
       "      <th>Route</th>\n",
       "      <th>Departure</th>\n",
       "      <th>Arrival</th>\n",
       "      <th>Flight Duration</th>\n",
       "      <th>Layover duration 1</th>\n",
       "      <th>Layover duration 2</th>\n",
       "      <th>Layover duration 3</th>\n",
       "      <th>Layover duration 4</th>\n",
       "      <th>Number of stops</th>\n",
       "      <th>Price</th>\n",
       "      <th>Cabin Type</th>\n",
       "      <th>Airline</th>\n",
       "      <th>Stop 1</th>\n",
       "      <th>Stop 2</th>\n",
       "      <th>Stop 3</th>\n",
       "      <th>Stop 4</th>\n",
       "      <th>Departure hour</th>\n",
       "    </tr>\n",
       "  </thead>\n",
       "  <tbody>\n",
       "    <tr>\n",
       "      <th>0</th>\n",
       "      <td>1</td>\n",
       "      <td>Toronto (YYZ) - Harare (HRE)</td>\n",
       "      <td>11:20:00</td>\n",
       "      <td>12:35:00</td>\n",
       "      <td>18h 15m</td>\n",
       "      <td>1h 45m</td>\n",
       "      <td>NaN</td>\n",
       "      <td>NaN</td>\n",
       "      <td>NaN</td>\n",
       "      <td>1</td>\n",
       "      <td>2626</td>\n",
       "      <td>Economy</td>\n",
       "      <td>Ethiopian Airlines</td>\n",
       "      <td>Addis Ababa (ADD)</td>\n",
       "      <td>NaN</td>\n",
       "      <td>NaN</td>\n",
       "      <td>NaN</td>\n",
       "      <td>11</td>\n",
       "    </tr>\n",
       "    <tr>\n",
       "      <th>1</th>\n",
       "      <td>2</td>\n",
       "      <td>Toronto (YYZ) - Harare (HRE)</td>\n",
       "      <td>22:05:00</td>\n",
       "      <td>11:05:00</td>\n",
       "      <td>54h 0m</td>\n",
       "      <td>11h</td>\n",
       "      <td>23h 15m</td>\n",
       "      <td>NaN</td>\n",
       "      <td>NaN</td>\n",
       "      <td>2</td>\n",
       "      <td>2627</td>\n",
       "      <td>Economy</td>\n",
       "      <td>British Airways</td>\n",
       "      <td>London (LHR)</td>\n",
       "      <td>Johannesburg (JNB)</td>\n",
       "      <td>NaN</td>\n",
       "      <td>NaN</td>\n",
       "      <td>22</td>\n",
       "    </tr>\n",
       "  </tbody>\n",
       "</table>\n",
       "</div>"
      ],
      "text/plain": [
       "   ID                         Route Departure   Arrival Flight Duration  \\\n",
       "0   1  Toronto (YYZ) - Harare (HRE)  11:20:00  12:35:00         18h 15m   \n",
       "1   2  Toronto (YYZ) - Harare (HRE)  22:05:00  11:05:00          54h 0m   \n",
       "\n",
       "  Layover duration 1 Layover duration 2 Layover duration 3 Layover duration 4  \\\n",
       "0             1h 45m                NaN                NaN                NaN   \n",
       "1                11h            23h 15m                NaN                NaN   \n",
       "\n",
       "   Number of stops  Price Cabin Type             Airline             Stop 1  \\\n",
       "0                1   2626    Economy  Ethiopian Airlines  Addis Ababa (ADD)   \n",
       "1                2   2627    Economy     British Airways       London (LHR)   \n",
       "\n",
       "               Stop 2 Stop 3 Stop 4  Departure hour  \n",
       "0                 NaN    NaN    NaN              11  \n",
       "1  Johannesburg (JNB)    NaN    NaN              22  "
      ]
     },
     "execution_count": 2,
     "metadata": {},
     "output_type": "execute_result"
    }
   ],
   "source": [
    "#Creating a dataframe of the excel file\n",
    "flights = pd.read_excel('yyz_to_hre_flights.xlsx')\n",
    "\n",
    "#First two rows of the dataframe\n",
    "flights.head(2)"
   ]
  },
  {
   "cell_type": "markdown",
   "metadata": {},
   "source": [
    "## Data cleaning"
   ]
  },
  {
   "cell_type": "code",
   "execution_count": 3,
   "metadata": {},
   "outputs": [],
   "source": [
    "#Renaming columns to snakecase\n",
    "flights.columns = flights.columns.str.lower().str.replace(' ', '_')"
   ]
  },
  {
   "cell_type": "code",
   "execution_count": 4,
   "metadata": {},
   "outputs": [],
   "source": [
    "#Removing whitespace from the route column\n",
    "flights['route'] =  flights['route'].str.strip()"
   ]
  },
  {
   "cell_type": "code",
   "execution_count": 5,
   "metadata": {},
   "outputs": [],
   "source": [
    "#List of columns with the names of the stops\n",
    "stop_columns = ['stop_1', 'stop_2', 'stop_3', 'stop_4']\n",
    "\n",
    "#Removing whitespace from the stop columns\n",
    "#and filling null values with '?'\n",
    "for stop_column in stop_columns:\n",
    "    flights[stop_column] =  flights[stop_column].str.strip()\n",
    "\n",
    "#List of columns with the time data\n",
    "time_columns = ['flight_duration', 'layover_duration_1', \n",
    "                'layover_duration_2', 'layover_duration_3',\n",
    "                'layover_duration_4']\n",
    "    \n",
    "#Removing white space from the time columns\n",
    "for time_column in time_columns:\n",
    "    flights[time_column] =  flights[time_column].str.strip()"
   ]
  },
  {
   "cell_type": "code",
   "execution_count": 6,
   "metadata": {},
   "outputs": [],
   "source": [
    "#Creating a dictionary with the long-form \n",
    "#of the airport and the three-letter code\n",
    "airport_dict = {}\n",
    "for stop_column in stop_columns:\n",
    "    airports = flights[stop_column].unique().tolist()\n",
    "    \n",
    "    \n",
    "    for stop in airports:\n",
    "        if type(stop) is str:\n",
    "            airport = stop.split('(')\n",
    "            city_name = airport[0].strip()\n",
    "            airport_code = airport[1]\n",
    "            airport_code = airport_code[0:3]\n",
    "            if city_name in airport_dict:\n",
    "                pass\n",
    "            else:\n",
    "                airport_dict[airport_code] = city_name"
   ]
  },
  {
   "cell_type": "code",
   "execution_count": 7,
   "metadata": {},
   "outputs": [],
   "source": [
    "#Converting the airport code dictionary to a datafram\n",
    "#and then creating an image of the dataframe\n",
    "airport_codes = pd.DataFrame.from_dict(airport_dict, orient = 'index', columns = ['City'])\n",
    "airport_codes.reset_index(inplace = True)\n",
    "airport_codes.rename(columns = {'index': 'Airport'}, inplace = True)\n",
    "airport_codes.sort_values('Airport', inplace = True)\n",
    "dataframe_image.export(airport_codes, 'airport_codes.png')"
   ]
  },
  {
   "cell_type": "code",
   "execution_count": 8,
   "metadata": {},
   "outputs": [],
   "source": [
    "#Removing the city name and only including the \n",
    "#airport three-letter code\n",
    "for stop_column in stop_columns:\n",
    "    flights[stop_column] = flights[stop_column].str.split('(', n = 1).str[1]\n",
    "    flights[stop_column] = flights[stop_column].str.replace(')', '')\n",
    "    flights[stop_column] = flights[stop_column].astype('str')"
   ]
  },
  {
   "cell_type": "code",
   "execution_count": 9,
   "metadata": {},
   "outputs": [],
   "source": [
    "#Creates a column with the flight pattern\n",
    "flights['flight_pattern'] = ['-'.join(row) for row in flights[stop_columns].values]\n",
    "\n",
    "def CleanPattern(flight_pattern):\n",
    "    \"\"\"This function removed the '-nan' \n",
    "    from the flight pattern\"\"\"\n",
    "    \n",
    "    if 'nan' in flight_pattern:\n",
    "        flight_pattern = flight_pattern.replace('-nan', '')\n",
    "        return flight_pattern\n",
    "    else:\n",
    "        return flight_pattern\n",
    "    \n",
    "#Cleaning the flight pattern\n",
    "flights['flight_pattern'] = flights['flight_pattern'].apply(CleanPattern)"
   ]
  },
  {
   "cell_type": "code",
   "execution_count": 10,
   "metadata": {},
   "outputs": [],
   "source": [
    "def ConvertTime(time_string):\n",
    "    \n",
    "    \"\"\"This function converts the time from strings of \n",
    "    hours and minutes to minutes as an interger\"\"\"\n",
    "    if type(time_string) is str:\n",
    "        time_list = time_string.split()\n",
    "        if len(time_list) > 1:\n",
    "            hours = int(time_list[0][:-1])\n",
    "            minutes = int(time_list[1][:-1])\n",
    "        else:\n",
    "            single_time = time_list[0]\n",
    "            if 'h' in single_time:\n",
    "                hours = int(single_time[:-1])\n",
    "                minutes = 0\n",
    "            elif 'm' in single_time:\n",
    "                minutes = int(single_time[:-1])\n",
    "                hours = 0\n",
    "            else:\n",
    "                minutes = 0\n",
    "                hours = 0\n",
    "\n",
    "        total_minutes = (hours * 60) + minutes\n",
    "        return total_minutes\n",
    "    \n",
    "    else:\n",
    "        return 0"
   ]
  },
  {
   "cell_type": "code",
   "execution_count": 11,
   "metadata": {},
   "outputs": [],
   "source": [
    "#Converting all of the time columns to minutes\n",
    "for time_column in time_columns:\n",
    "    flights[time_column] = flights[time_column].apply(ConvertTime)\n",
    "\n",
    "#Adds the layover time in miuntes\n",
    "flights['total_layover_time'] = flights[time_columns[1:]].sum(axis = 'columns')\n",
    "\n",
    "#Calculates the actual flight time\n",
    "flights['flight_time'] = flights['flight_duration'] - flights['total_layover_time']"
   ]
  },
  {
   "cell_type": "code",
   "execution_count": 12,
   "metadata": {},
   "outputs": [],
   "source": [
    "def GetTime(hour):\n",
    "    \"\"\"This function gets the 24-hour integer\n",
    "    and return the time category\"\"\"\n",
    "    if hour < 12:\n",
    "        return 'Morning'\n",
    "    elif hour < 18:\n",
    "        return 'Afternoon'\n",
    "    else:\n",
    "        return 'Evening'"
   ]
  },
  {
   "cell_type": "code",
   "execution_count": 13,
   "metadata": {},
   "outputs": [],
   "source": [
    "#A column with the time category of the flight\n",
    "flights['time_text'] = flights['departure_hour'].apply(GetTime)"
   ]
  },
  {
   "cell_type": "code",
   "execution_count": 14,
   "metadata": {},
   "outputs": [],
   "source": [
    "#Sorting the data by departure time, flight pattern\n",
    "#and cabin_type\n",
    "flights.sort_values(['departure', 'flight_pattern', 'cabin_type'], inplace = True)"
   ]
  },
  {
   "cell_type": "code",
   "execution_count": 15,
   "metadata": {},
   "outputs": [],
   "source": [
    "#Subset of the data with economy flights\n",
    "economy_flights = flights.loc[flights['cabin_type'] == 'Economy', :].copy()"
   ]
  },
  {
   "cell_type": "code",
   "execution_count": 16,
   "metadata": {},
   "outputs": [],
   "source": [
    "#Some flights in the dataset are of the same flight pattern,\n",
    "#and flight duration and only differ in price and cabin type\n",
    "#so this creates a subset without duplicates for duplicates\n",
    "duplicate_columns = ['flight_pattern', 'flight_duration', \n",
    "                     'departure', 'total_layover_time', 'layover_duration_1']\n",
    "\n",
    "duplicate_free = flights.drop_duplicates(subset = duplicate_columns, keep = 'first')"
   ]
  },
  {
   "cell_type": "markdown",
   "metadata": {},
   "source": [
    "## Exploratory data analysis"
   ]
  },
  {
   "cell_type": "code",
   "execution_count": 17,
   "metadata": {},
   "outputs": [],
   "source": [
    "sns.set_style('ticks')"
   ]
  },
  {
   "cell_type": "markdown",
   "metadata": {},
   "source": [
    "#### Minimum price of flights"
   ]
  },
  {
   "cell_type": "code",
   "execution_count": 18,
   "metadata": {},
   "outputs": [
    {
     "data": {
      "text/plain": [
       "2626"
      ]
     },
     "execution_count": 18,
     "metadata": {},
     "output_type": "execute_result"
    }
   ],
   "source": [
    "flights['price'].min()"
   ]
  },
  {
   "cell_type": "markdown",
   "metadata": {},
   "source": [
    "#### Maximum price of economy flights"
   ]
  },
  {
   "cell_type": "code",
   "execution_count": 19,
   "metadata": {},
   "outputs": [
    {
     "data": {
      "text/plain": [
       "3296"
      ]
     },
     "execution_count": 19,
     "metadata": {},
     "output_type": "execute_result"
    }
   ],
   "source": [
    "economy_flights['price'].max()"
   ]
  },
  {
   "cell_type": "code",
   "execution_count": 20,
   "metadata": {},
   "outputs": [
    {
     "data": {
      "image/png": "[encoded data removed]",
      "text/plain": [
       "<Figure size 432x288 with 1 Axes>"
      ]
     },
     "metadata": {},
     "output_type": "display_data"
    }
   ],
   "source": [
    "#Creating the histogram of the flight prices\n",
    "fig, ax = plt.subplots()\n",
    "sns.histplot(x = 'price', data = flights, ax = ax, color = '#0e49b5')\n",
    "\n",
    "#Removing the top and right borders\n",
    "ax.spines['top'].set_visible(False)\n",
    "ax.spines['right'].set_visible(False)\n",
    "\n",
    "#Formatting of the chart\n",
    "ax.xaxis.set_major_formatter('${x:1.0f}')\n",
    "ax.set_xlim(0,)\n",
    "ax.set_xlabel('Price')\n",
    "\n",
    "fig.suptitle('Distribution of prices', fontsize = 15)\n",
    "plt.savefig('price_distribution.png', dpi = 300)\n",
    "plt.show()"
   ]
  },
  {
   "cell_type": "markdown",
   "metadata": {},
   "source": [
    "#### What is the average duration of the flights, including layovers?"
   ]
  },
  {
   "cell_type": "code",
   "execution_count": 21,
   "metadata": {
    "scrolled": true
   },
   "outputs": [
    {
     "data": {
      "text/plain": [
       "Timedelta('1 days 17:08:56.170212780')"
      ]
     },
     "execution_count": 21,
     "metadata": {},
     "output_type": "execute_result"
    }
   ],
   "source": [
    "pd.to_timedelta(duplicate_free['flight_duration'].mean(), 'minutes')"
   ]
  },
  {
   "cell_type": "markdown",
   "metadata": {},
   "source": [
    "#### What is the distribution of flight duration, including layovers?"
   ]
  },
  {
   "cell_type": "code",
   "execution_count": 22,
   "metadata": {},
   "outputs": [
    {
     "data": {
      "image/png": "[encoded data removed]",
      "text/plain": [
       "<Figure size 432x288 with 1 Axes>"
      ]
     },
     "metadata": {},
     "output_type": "display_data"
    }
   ],
   "source": [
    "#Duration bins in minutes\n",
    "duration_bins = [i for i in range(0, 4200, 300)]\n",
    "\n",
    "#Creating the histogram of the flight duration\n",
    "fig, ax = plt.subplots()\n",
    "sns.histplot(x = 'flight_duration', data = duplicate_free, \n",
    "             bins = duration_bins, ax = ax, color = '#0e49b5')\n",
    "\n",
    "\n",
    "\n",
    "#Using hour labels for xticks because hours\n",
    "#will be easier to understand than large\n",
    "#minutes\n",
    "ax.set_xticks(duration_bins)\n",
    "xtick_labels = [i for i in range(0, 70, 5)]\n",
    "ax.set_xticklabels(xtick_labels)\n",
    "\n",
    "#Removing the top and right borders\n",
    "ax.spines['top'].set_visible(False)\n",
    "ax.spines['right'].set_visible(False)\n",
    "\n",
    "#Formatting the chart\n",
    "ax.set_xlim(0,)\n",
    "ax.set_xlabel('Flight duration (hour)')\n",
    "\n",
    "\n",
    "fig.suptitle('Distribution of flight duration', fontsize = 15)\n",
    "plt.savefig('flight_duration.png', dpi = 300)\n",
    "plt.show()"
   ]
  },
  {
   "cell_type": "code",
   "execution_count": 23,
   "metadata": {},
   "outputs": [
    {
     "data": {
      "image/png": "[encoded data removed]",
      "text/plain": [
       "<Figure size 576x360 with 1 Axes>"
      ]
     },
     "metadata": {},
     "output_type": "display_data"
    }
   ],
   "source": [
    "#Creating a boxplot\n",
    "fig, ax = plt.subplots(figsize =  (8,5))\n",
    "sns.boxplot(x = 'airline', y = 'flight_duration', data = \n",
    "            duplicate_free, ax = ax, color = '#0e49b5')\n",
    "\n",
    "#Removing the top and right borders\n",
    "ax.spines['top'].set_visible(False)\n",
    "ax.spines['right'].set_visible(False)\n",
    "\n",
    "#Axis labels\n",
    "ax.set_ylabel('Flight duration (hour)')\n",
    "ax.set_xlabel('Airline')\n",
    "\n",
    "\n",
    "#Using hour labels for yticks because hours\n",
    "#will be easier to understand than large\n",
    "#minutes\n",
    "ax.set_yticks(duration_bins)\n",
    "ytick_labels = [i for i in range(0, 70, 5)]\n",
    "ax.set_yticklabels(ytick_labels)\n",
    "ax.set_ylim(0,)\n",
    "\n",
    "fig.suptitle('Distribution of flight duration by airline', fontsize = 15)\n",
    "plt.savefig('airline_flight_duration.png', dpi = 300)\n",
    "plt.show()"
   ]
  },
  {
   "cell_type": "markdown",
   "metadata": {},
   "source": [
    "#### Shortest flight duration"
   ]
  },
  {
   "cell_type": "code",
   "execution_count": 24,
   "metadata": {
    "scrolled": true
   },
   "outputs": [
    {
     "data": {
      "text/plain": [
       "0    ADD\n",
       "Name: flight_pattern, dtype: object"
      ]
     },
     "execution_count": 24,
     "metadata": {},
     "output_type": "execute_result"
    }
   ],
   "source": [
    "flights.nsmallest(1, 'flight_duration')['flight_pattern']"
   ]
  },
  {
   "cell_type": "markdown",
   "metadata": {},
   "source": [
    "#### Longest flight duration"
   ]
  },
  {
   "cell_type": "code",
   "execution_count": 25,
   "metadata": {
    "scrolled": true
   },
   "outputs": [
    {
     "data": {
      "text/plain": [
       "2    LHR-JNB\n",
       "Name: flight_pattern, dtype: object"
      ]
     },
     "execution_count": 25,
     "metadata": {},
     "output_type": "execute_result"
    }
   ],
   "source": [
    "flights.nlargest(1, 'flight_duration')['flight_pattern']"
   ]
  },
  {
   "cell_type": "code",
   "execution_count": 26,
   "metadata": {},
   "outputs": [
    {
     "data": {
      "text/plain": [
       "2   1 days 14:00:00\n",
       "Name: total_layover_time, dtype: timedelta64[ns]"
      ]
     },
     "execution_count": 26,
     "metadata": {},
     "output_type": "execute_result"
    }
   ],
   "source": [
    "pd.to_timedelta(flights.nlargest(1, 'flight_duration')['total_layover_time'], 'minutes')"
   ]
  },
  {
   "cell_type": "markdown",
   "metadata": {},
   "source": [
    "#### What is the distribution of flight time?"
   ]
  },
  {
   "cell_type": "code",
   "execution_count": 27,
   "metadata": {
    "scrolled": true
   },
   "outputs": [
    {
     "data": {
      "text/plain": [
       "Timedelta('0 days 20:06:49.787234040')"
      ]
     },
     "execution_count": 27,
     "metadata": {},
     "output_type": "execute_result"
    }
   ],
   "source": [
    "pd.to_timedelta(duplicate_free['flight_time'].mean(), 'minutes')"
   ]
  },
  {
   "cell_type": "code",
   "execution_count": 28,
   "metadata": {},
   "outputs": [
    {
     "data": {
      "image/png": "[encoded data removed]",
      "text/plain": [
       "<Figure size 504x360 with 1 Axes>"
      ]
     },
     "metadata": {},
     "output_type": "display_data"
    }
   ],
   "source": [
    "#Creating the histogram of the flight time\n",
    "fig, ax = plt.subplots(figsize = (7,5))\n",
    "#sns.kdeplot(x = 'flight_time', data = duplicate_free, bins = flight_time_bins, ax = ax)\n",
    "sns.kdeplot(x = 'flight_time', data = duplicate_free, ax = ax , color = '#0e49b5')\n",
    "\n",
    "ax.set_xlim(0,)\n",
    "ax.set_xlabel('Flight time (hour)')\n",
    "\n",
    "#Ticks in intervals of 300 minutes (5 hours)\n",
    "flight_time_ticks = [i for i in range(0, 2700, 300)]\n",
    "ax.set_xticks(flight_time_ticks)\n",
    "\n",
    "#Hour labels for xticks\n",
    "xtick_labels = [i for i in range(0,45, 5)]\n",
    "ax.set_xticklabels(xtick_labels)\n",
    "\n",
    "#Removing the top and right borders\n",
    "ax.spines['top'].set_visible(False)\n",
    "ax.spines['right'].set_visible(False)\n",
    "\n",
    "fig.suptitle('Distribution of flight time', fontsize = 15)\n",
    "plt.savefig('flight_time.png', dpi = 300)\n",
    "plt.show()"
   ]
  },
  {
   "cell_type": "markdown",
   "metadata": {},
   "source": [
    "#### Shortest flight time"
   ]
  },
  {
   "cell_type": "code",
   "execution_count": 29,
   "metadata": {},
   "outputs": [
    {
     "data": {
      "text/plain": [
       "0    ADD\n",
       "Name: flight_pattern, dtype: object"
      ]
     },
     "execution_count": 29,
     "metadata": {},
     "output_type": "execute_result"
    }
   ],
   "source": [
    "duplicate_free.nsmallest(1, 'flight_time')['flight_pattern']"
   ]
  },
  {
   "cell_type": "code",
   "execution_count": 30,
   "metadata": {},
   "outputs": [
    {
     "data": {
      "text/plain": [
       "0   0 days 16:30:00\n",
       "Name: flight_time, dtype: timedelta64[ns]"
      ]
     },
     "execution_count": 30,
     "metadata": {},
     "output_type": "execute_result"
    }
   ],
   "source": [
    "pd.to_timedelta(duplicate_free.nsmallest(1, 'flight_time')['flight_time'], 'minutes')"
   ]
  },
  {
   "cell_type": "markdown",
   "metadata": {},
   "source": [
    "#### Longest flight time"
   ]
  },
  {
   "cell_type": "code",
   "execution_count": 31,
   "metadata": {},
   "outputs": [
    {
     "data": {
      "text/html": [
       "<div>\n",
       "<style scoped>\n",
       "    .dataframe tbody tr th:only-of-type {\n",
       "        vertical-align: middle;\n",
       "    }\n",
       "\n",
       "    .dataframe tbody tr th {\n",
       "        vertical-align: top;\n",
       "    }\n",
       "\n",
       "    .dataframe thead th {\n",
       "        text-align: right;\n",
       "    }\n",
       "</style>\n",
       "<table border=\"1\" class=\"dataframe\">\n",
       "  <thead>\n",
       "    <tr style=\"text-align: right;\">\n",
       "      <th></th>\n",
       "      <th>airline</th>\n",
       "      <th>flight_pattern</th>\n",
       "    </tr>\n",
       "  </thead>\n",
       "  <tbody>\n",
       "    <tr>\n",
       "      <th>42</th>\n",
       "      <td>Emirates</td>\n",
       "      <td>LGW-DXB-LUN</td>\n",
       "    </tr>\n",
       "  </tbody>\n",
       "</table>\n",
       "</div>"
      ],
      "text/plain": [
       "     airline flight_pattern\n",
       "42  Emirates    LGW-DXB-LUN"
      ]
     },
     "execution_count": 31,
     "metadata": {},
     "output_type": "execute_result"
    }
   ],
   "source": [
    "duplicate_free.nlargest(1, 'flight_time')[['airline', 'flight_pattern']]"
   ]
  },
  {
   "cell_type": "code",
   "execution_count": 32,
   "metadata": {},
   "outputs": [
    {
     "data": {
      "text/plain": [
       "42   0 days 22:25:00\n",
       "Name: flight_time, dtype: timedelta64[ns]"
      ]
     },
     "execution_count": 32,
     "metadata": {},
     "output_type": "execute_result"
    }
   ],
   "source": [
    "pd.to_timedelta(duplicate_free.nlargest(1, 'flight_time')['flight_time'], 'minutes')"
   ]
  },
  {
   "cell_type": "markdown",
   "metadata": {},
   "source": [
    "#### What is the average layover time?"
   ]
  },
  {
   "cell_type": "code",
   "execution_count": 33,
   "metadata": {},
   "outputs": [
    {
     "data": {
      "text/plain": [
       "Timedelta('0 days 21:02:06.382978740')"
      ]
     },
     "execution_count": 33,
     "metadata": {},
     "output_type": "execute_result"
    }
   ],
   "source": [
    "pd.to_timedelta(duplicate_free['total_layover_time'].mean(), 'minutes')"
   ]
  },
  {
   "cell_type": "markdown",
   "metadata": {},
   "source": [
    "#### Minimum layover time"
   ]
  },
  {
   "cell_type": "code",
   "execution_count": 34,
   "metadata": {},
   "outputs": [
    {
     "data": {
      "text/plain": [
       "0    ADD\n",
       "Name: flight_pattern, dtype: object"
      ]
     },
     "execution_count": 34,
     "metadata": {},
     "output_type": "execute_result"
    }
   ],
   "source": [
    "duplicate_free.nsmallest(1, 'total_layover_time')['flight_pattern']"
   ]
  },
  {
   "cell_type": "code",
   "execution_count": 35,
   "metadata": {},
   "outputs": [
    {
     "data": {
      "text/plain": [
       "0   0 days 01:45:00\n",
       "Name: total_layover_time, dtype: timedelta64[ns]"
      ]
     },
     "execution_count": 35,
     "metadata": {},
     "output_type": "execute_result"
    }
   ],
   "source": [
    "pd.to_timedelta(duplicate_free.nsmallest(1, 'total_layover_time')['total_layover_time'], 'minutes')"
   ]
  },
  {
   "cell_type": "markdown",
   "metadata": {},
   "source": [
    "#### Maximum layover time"
   ]
  },
  {
   "cell_type": "code",
   "execution_count": 36,
   "metadata": {},
   "outputs": [
    {
     "data": {
      "text/plain": [
       "2    LHR-JNB\n",
       "Name: flight_pattern, dtype: object"
      ]
     },
     "execution_count": 36,
     "metadata": {},
     "output_type": "execute_result"
    }
   ],
   "source": [
    "duplicate_free.nlargest(1, 'total_layover_time')['flight_pattern']"
   ]
  },
  {
   "cell_type": "code",
   "execution_count": 37,
   "metadata": {},
   "outputs": [
    {
     "data": {
      "text/plain": [
       "2   1 days 14:00:00\n",
       "Name: total_layover_time, dtype: timedelta64[ns]"
      ]
     },
     "execution_count": 37,
     "metadata": {},
     "output_type": "execute_result"
    }
   ],
   "source": [
    "pd.to_timedelta(duplicate_free.nlargest(1, 'total_layover_time')['total_layover_time'], 'minutes')"
   ]
  },
  {
   "cell_type": "code",
   "execution_count": 38,
   "metadata": {},
   "outputs": [
    {
     "data": {
      "image/png": "[encoded data removed]",
      "text/plain": [
       "<Figure size 504x360 with 1 Axes>"
      ]
     },
     "metadata": {},
     "output_type": "display_data"
    }
   ],
   "source": [
    "#Bins in intervals of 300 minutes (5 hours)\n",
    "bins = [i for i in range(0, 2700, 300)]\n",
    "\n",
    "#Creating the histogram of the layover time\n",
    "fig, ax = plt.subplots(figsize = (7,5))\n",
    "sns.histplot(x = 'total_layover_time', data = duplicate_free, \n",
    "             bins = bins, ax = ax, color = '#0e49b5')\n",
    "\n",
    "#Removing the top and right borders\n",
    "ax.spines['top'].set_visible(False)\n",
    "ax.spines['right'].set_visible(False)\n",
    "\n",
    "#Hour tick labels\n",
    "xticks = [i for i in range(0,45, 5)]\n",
    "ax.set_xticks(bins)\n",
    "ax.set_xticklabels(xticks)\n",
    "\n",
    "ax.set_ylim(0,)\n",
    "ax.set_xlabel('Layover time (hour)')\n",
    "\n",
    "fig.suptitle('Distribution of layover time', fontsize = 15)\n",
    "plt.savefig('total_layover_time.png', dpi = 300)\n",
    "plt.show()"
   ]
  },
  {
   "cell_type": "markdown",
   "metadata": {},
   "source": [
    "#### What are the different number of airlines that offer these routes?"
   ]
  },
  {
   "cell_type": "code",
   "execution_count": 39,
   "metadata": {},
   "outputs": [
    {
     "data": {
      "text/plain": [
       "['Multiple',\n",
       " 'KLM',\n",
       " 'Air France',\n",
       " 'Ethiopian Airlines',\n",
       " 'Emirates',\n",
       " 'British Airways']"
      ]
     },
     "execution_count": 39,
     "metadata": {},
     "output_type": "execute_result"
    }
   ],
   "source": [
    "airlines_list = flights['airline'].unique().tolist()\n",
    "airlines_list"
   ]
  },
  {
   "cell_type": "markdown",
   "metadata": {},
   "source": [
    "#### How many economy flights of each route?"
   ]
  },
  {
   "cell_type": "code",
   "execution_count": 40,
   "metadata": {},
   "outputs": [
    {
     "data": {
      "image/png": "[encoded data removed]",
      "text/plain": [
       "<Figure size 720x720 with 5 Axes>"
      ]
     },
     "metadata": {},
     "output_type": "display_data"
    }
   ],
   "source": [
    "#Grouping the flights by flight pattern and airline\n",
    "flight_patterns = duplicate_free.groupby(['flight_pattern', 'airline'], as_index = False)['id'].count()\n",
    "flight_patterns.rename(columns = {'id': 'num_flights'}, inplace = True)\n",
    "flight_patterns.sort_values('num_flights', inplace = True, ascending = False)\n",
    "\n",
    "\n",
    "\n",
    "#Creating a chart with bar charts of each\n",
    "#route and the number of flights\n",
    "max_bars = 7\n",
    "fig = plt.figure(figsize = (10, 10))\n",
    "for idx in range(0,5):\n",
    "    ax = fig.add_subplot(2, 3, idx + 1)\n",
    "    temp_df = flight_patterns.loc[flight_patterns['airline'] == airlines_list[idx]]\n",
    "    sns.barplot(x = 'num_flights', y = 'flight_pattern', data = temp_df, color = '#0e49b5')\n",
    "    ax.set_title(airlines_list[idx])\n",
    "    ax.set_ylim(-0.5, max_bars-0.5)\n",
    "\n",
    "    #Removing the top and right borders\n",
    "    ax.spines['right'].set_visible(False)\n",
    "    ax.spines['top'].set_visible(False)\n",
    "    \n",
    "    if idx == 0 or idx == 3:\n",
    "        ax.set_ylabel('Flight Pattern')\n",
    "        ax.set_xlabel('Number of flights')\n",
    "    else:\n",
    "        ax.set_ylabel('')\n",
    "        ax.set_xlabel('')\n",
    "        \n",
    "\n",
    "ax.set_xlabel('Number of flights')\n",
    "ax.set_ylabel('')\n",
    "fig.suptitle('Flight routes', fontsize = 15)\n",
    "plt.tight_layout(rect=[0, 0.03, 1, 0.95])\n",
    "plt.savefig('routes.png', dpi = 300)\n",
    "plt.show()"
   ]
  },
  {
   "cell_type": "markdown",
   "metadata": {},
   "source": [
    "#### What time do the different flights depart?"
   ]
  },
  {
   "cell_type": "code",
   "execution_count": 41,
   "metadata": {},
   "outputs": [
    {
     "data": {
      "image/png": "[encoded data removed]",
      "text/plain": [
       "<Figure size 432x288 with 1 Axes>"
      ]
     },
     "metadata": {},
     "output_type": "display_data"
    }
   ],
   "source": [
    "sns.countplot(x = 'time_text', data = duplicate_free, color = '#0e49b5')\n",
    "plt.show()"
   ]
  },
  {
   "cell_type": "markdown",
   "metadata": {},
   "source": [
    "### Statistical analysis"
   ]
  },
  {
   "cell_type": "code",
   "execution_count": 42,
   "metadata": {},
   "outputs": [],
   "source": [
    "def NormalTestResults(column):\n",
    "    \"\"\"Returns the results of of normal distribution test\"\"\"\n",
    "    statistic, pvalue = stats.normaltest(column)\n",
    "    alpha = 0.05\n",
    "    if pvalue < alpha:\n",
    "        return 'The null hypothesis can be rejected'\n",
    "    else:\n",
    "         return 'The null hypothesis cannot be rejected'"
   ]
  },
  {
   "cell_type": "markdown",
   "metadata": {},
   "source": [
    "#### Is the flight duration normally distributed??"
   ]
  },
  {
   "cell_type": "code",
   "execution_count": 43,
   "metadata": {},
   "outputs": [
    {
     "data": {
      "text/plain": [
       "'The null hypothesis can be rejected'"
      ]
     },
     "execution_count": 43,
     "metadata": {},
     "output_type": "execute_result"
    }
   ],
   "source": [
    "NormalTestResults(duplicate_free['flight_duration'])"
   ]
  },
  {
   "cell_type": "markdown",
   "metadata": {},
   "source": [
    "#### Is the layover time normally distributed?"
   ]
  },
  {
   "cell_type": "code",
   "execution_count": 44,
   "metadata": {},
   "outputs": [
    {
     "data": {
      "text/plain": [
       "'The null hypothesis can be rejected'"
      ]
     },
     "execution_count": 44,
     "metadata": {},
     "output_type": "execute_result"
    }
   ],
   "source": [
    "NormalTestResults(duplicate_free['total_layover_time'])"
   ]
  },
  {
   "cell_type": "markdown",
   "metadata": {},
   "source": [
    "#### Are the prices normally distributed?"
   ]
  },
  {
   "cell_type": "code",
   "execution_count": 45,
   "metadata": {},
   "outputs": [
    {
     "data": {
      "text/plain": [
       "'The null hypothesis cannot be rejected'"
      ]
     },
     "execution_count": 45,
     "metadata": {},
     "output_type": "execute_result"
    }
   ],
   "source": [
    "NormalTestResults(economy_flights['price'])"
   ]
  },
  {
   "cell_type": "markdown",
   "metadata": {},
   "source": [
    "The null hypothesis cannot be rejected, so economy flights' prices do follow a normal distribution."
   ]
  },
  {
   "cell_type": "markdown",
   "metadata": {},
   "source": [
    "#### What is the correlation of 'flight duration,' 'total layover time,' 'flight_time' and 'price?"
   ]
  },
  {
   "cell_type": "code",
   "execution_count": 46,
   "metadata": {},
   "outputs": [
    {
     "data": {
      "image/png": "[encoded data removed]",
      "text/plain": [
       "<Figure size 900x900 with 30 Axes>"
      ]
     },
     "metadata": {},
     "output_type": "display_data"
    }
   ],
   "source": [
    "distribution_columns = ['flight_duration', 'price', \n",
    "                        'total_layover_time', 'airline', \n",
    "                        'flight_time', 'number_of_stops']\n",
    "sns.pairplot(data = duplicate_free[distribution_columns])\n",
    "plt.show()"
   ]
  },
  {
   "cell_type": "markdown",
   "metadata": {},
   "source": [
    "There seems to be no correlation between most variables, except a positive correlation between the flight duration and the total layover time. "
   ]
  },
  {
   "cell_type": "markdown",
   "metadata": {},
   "source": [
    "#### Correlation matrix"
   ]
  },
  {
   "cell_type": "code",
   "execution_count": 47,
   "metadata": {},
   "outputs": [
    {
     "data": {
      "image/png": "[encoded data removed]",
      "text/plain": [
       "<Figure size 432x288 with 2 Axes>"
      ]
     },
     "metadata": {},
     "output_type": "display_data"
    }
   ],
   "source": [
    "correl_columns = ['price', 'flight_duration', 'number_of_stops',  'total_layover_time']\n",
    "correl_matrix = economy_flights[correl_columns].corr()\n",
    "sns.heatmap(correl_matrix)\n",
    "plt.show()"
   ]
  },
  {
   "cell_type": "markdown",
   "metadata": {},
   "source": [
    "There is a strong positive correlation between the flight duration and the total layover time."
   ]
  },
  {
   "cell_type": "code",
   "execution_count": 48,
   "metadata": {},
   "outputs": [
    {
     "data": {
      "text/plain": [
       "price                -0.032468\n",
       "flight_duration       1.000000\n",
       "number_of_stops       0.535876\n",
       "total_layover_time    0.996776\n",
       "Name: flight_duration, dtype: float64"
      ]
     },
     "execution_count": 48,
     "metadata": {},
     "output_type": "execute_result"
    }
   ],
   "source": [
    "correl_matrix.loc['flight_duration']"
   ]
  },
  {
   "cell_type": "markdown",
   "metadata": {},
   "source": [
    "### Hypothesis testing\n",
    "Based on a rough estimate of the cost of flights I have taken in the past, I tested the hypothesis that the average price of an economy flight to Zimbabwe is **\\$3000**.\n",
    "\n",
    "\n",
    "**Hypothesis**\n",
    "* HA: µ = \\$3000\n",
    "* HA: µ ≠ \\$3000"
   ]
  },
  {
   "cell_type": "code",
   "execution_count": 49,
   "metadata": {
    "scrolled": true
   },
   "outputs": [
    {
     "name": "stdout",
     "output_type": "stream",
     "text": [
      "The null hypothesis can be rejected\n"
     ]
    }
   ],
   "source": [
    "population_mean = 3000\n",
    "statistic, pvalue = stats.ttest_1samp(a = economy_flights['price'], popmean = population_mean)\n",
    "alpha = 0.05\n",
    "if pvalue < alpha:\n",
    "    print('The null hypothesis can be rejected')\n",
    "else:\n",
    "    print('The null hypothesis cannot be rejected')"
   ]
  },
  {
   "cell_type": "markdown",
   "metadata": {},
   "source": [
    "The null hypothesis can be rejected, so the average price of a flight of an economy flight may not be **\\$3000**."
   ]
  },
  {
   "cell_type": "markdown",
   "metadata": {},
   "source": [
    "I then decided to test the hypothesis that the average price of an economy flight is **\\$2900**.\n",
    "\n",
    "**Hypothesis**\n",
    "* HA: µ = \\$2900\n",
    "* HA: µ ≠ \\$2900"
   ]
  },
  {
   "cell_type": "code",
   "execution_count": 50,
   "metadata": {},
   "outputs": [
    {
     "name": "stdout",
     "output_type": "stream",
     "text": [
      "The null hypothesis cannot be rejected\n"
     ]
    }
   ],
   "source": [
    "population_mean_2 = 2900\n",
    "statistic, pvalue_2 = stats.ttest_1samp(a = economy_flights['price'], popmean = population_mean_2)\n",
    "alpha = 0.05\n",
    "if pvalue_2 < alpha:\n",
    "    print('The null hypothesis can be rejected')\n",
    "else:\n",
    "    print('The null hypothesis cannot be rejected')"
   ]
  },
  {
   "cell_type": "markdown",
   "metadata": {},
   "source": [
    "The null hypothesis did not fail, so the average price of all economy flights to Harare could be **\\$2900**."
   ]
  },
  {
   "cell_type": "markdown",
   "metadata": {},
   "source": [
    "#### Confidence interval of the average price"
   ]
  },
  {
   "cell_type": "code",
   "execution_count": 51,
   "metadata": {},
   "outputs": [],
   "source": [
    "confidence = 0.95\n",
    "\n",
    "n = len(economy_flights)\n",
    "avg_price = economy_flights['price'].mean()\n",
    "std_err = stats.sem(economy_flights['price'])\n",
    "mar_er = std_err * stats.t.ppf((1 + confidence) / 2, n - 1)\n",
    "\n",
    "min_price = avg_price - mar_er\n",
    "max_price = avg_price + mar_er"
   ]
  },
  {
   "cell_type": "markdown",
   "metadata": {},
   "source": [
    "Minimum"
   ]
  },
  {
   "cell_type": "code",
   "execution_count": 52,
   "metadata": {},
   "outputs": [
    {
     "data": {
      "text/plain": [
       "2737.71"
      ]
     },
     "execution_count": 52,
     "metadata": {},
     "output_type": "execute_result"
    }
   ],
   "source": [
    "round(min_price, 2)"
   ]
  },
  {
   "cell_type": "markdown",
   "metadata": {},
   "source": [
    "Maximum"
   ]
  },
  {
   "cell_type": "code",
   "execution_count": 53,
   "metadata": {},
   "outputs": [
    {
     "data": {
      "text/plain": [
       "2973.39"
      ]
     },
     "execution_count": 53,
     "metadata": {},
     "output_type": "execute_result"
    }
   ],
   "source": [
    "round(max_price, 2)"
   ]
  }
 ],
 "metadata": {
  "kernelspec": {
   "display_name": "Python 3",
   "language": "python",
   "name": "python3"
  },
  "language_info": {
   "codemirror_mode": {
    "name": "ipython",
    "version": 3
   },
   "file_extension": ".py",
   "mimetype": "text/x-python",
   "name": "python",
   "nbconvert_exporter": "python",
   "pygments_lexer": "ipython3",
   "version": "3.8.3"
  }
 },
 "nbformat": 4,
 "nbformat_minor": 4
}
