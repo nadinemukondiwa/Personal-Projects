{
 "cells": [
  {
   "cell_type": "markdown",
   "metadata": {},
   "source": [
    "# Analyzing tweets about Korean Dramas"
   ]
  },
  {
   "cell_type": "code",
   "execution_count": 1,
   "metadata": {
    "scrolled": true
   },
   "outputs": [],
   "source": [
    "import json\n",
    "import emojis\n",
    "import numpy as np\n",
    "import pandas as pd\n",
    "import matplotlib.pyplot as plt"
   ]
  },
  {
   "cell_type": "code",
   "execution_count": 2,
   "metadata": {},
   "outputs": [
    {
     "data": {
      "text/html": [
       "<div>\n",
       "<style scoped>\n",
       "    .dataframe tbody tr th:only-of-type {\n",
       "        vertical-align: middle;\n",
       "    }\n",
       "\n",
       "    .dataframe tbody tr th {\n",
       "        vertical-align: top;\n",
       "    }\n",
       "\n",
       "    .dataframe thead th {\n",
       "        text-align: right;\n",
       "    }\n",
       "</style>\n",
       "<table border=\"1\" class=\"dataframe\">\n",
       "  <thead>\n",
       "    <tr style=\"text-align: right;\">\n",
       "      <th></th>\n",
       "      <th>date_created</th>\n",
       "      <th>tweet_text</th>\n",
       "      <th>tweet_id</th>\n",
       "      <th>hashtags</th>\n",
       "      <th>user_id</th>\n",
       "      <th>location</th>\n",
       "      <th>retweeted</th>\n",
       "      <th>lang</th>\n",
       "      <th>retweeted_text</th>\n",
       "      <th>retweeted_hashtags</th>\n",
       "    </tr>\n",
       "  </thead>\n",
       "  <tbody>\n",
       "    <tr>\n",
       "      <th>0</th>\n",
       "      <td>Sat Jan 30 22:54:16 +0000 2021</td>\n",
       "      <td>RT @sakuratoffee: Just finished Memories of th...</td>\n",
       "      <td>1355650566492463104</td>\n",
       "      <td>['Netflix']</td>\n",
       "      <td>955271515959975936</td>\n",
       "      <td>Dublin City, Ireland</td>\n",
       "      <td>True</td>\n",
       "      <td>en</td>\n",
       "      <td>Just finished Memories of the Alhambra on #Net...</td>\n",
       "      <td>['Netflix']</td>\n",
       "    </tr>\n",
       "    <tr>\n",
       "      <th>1</th>\n",
       "      <td>Sat Jan 30 22:36:21 +0000 2021</td>\n",
       "      <td>Just finished Memories of the Alhambra on #Net...</td>\n",
       "      <td>1355646057657622530</td>\n",
       "      <td>['Netflix']</td>\n",
       "      <td>755854750948663297</td>\n",
       "      <td>Lewisham, London</td>\n",
       "      <td>False</td>\n",
       "      <td>en</td>\n",
       "      <td>NaN</td>\n",
       "      <td>NaN</td>\n",
       "    </tr>\n",
       "    <tr>\n",
       "      <th>2</th>\n",
       "      <td>Sat Jan 30 21:43:19 +0000 2021</td>\n",
       "      <td>Damn #theuncannyencounter how can you do that ...</td>\n",
       "      <td>1355632713399562244</td>\n",
       "      <td>['theuncannyencounter', 'netflix', 'koreandram...</td>\n",
       "      <td>863035493423951873</td>\n",
       "      <td>Here</td>\n",
       "      <td>False</td>\n",
       "      <td>en</td>\n",
       "      <td>NaN</td>\n",
       "      <td>NaN</td>\n",
       "    </tr>\n",
       "    <tr>\n",
       "      <th>3</th>\n",
       "      <td>Sat Jan 30 20:33:08 +0000 2021</td>\n",
       "      <td>RT @s_l1485: 👋🏻👋🏻 HELLOOOOO ‼️‼️\\n⬇️⬇️ Eyes he...</td>\n",
       "      <td>1355615050866651138</td>\n",
       "      <td>[]</td>\n",
       "      <td>163389449</td>\n",
       "      <td>Cebu, City</td>\n",
       "      <td>True</td>\n",
       "      <td>en</td>\n",
       "      <td>👋🏻👋🏻 HELLOOOOO ‼️‼️\\n⬇️⬇️ Eyes here 👀 \\n \\n🤩WA...</td>\n",
       "      <td>[]</td>\n",
       "    </tr>\n",
       "    <tr>\n",
       "      <th>4</th>\n",
       "      <td>Sat Jan 30 20:28:47 +0000 2021</td>\n",
       "      <td>#Kdrama news (Jan 29 21)\\n\\nBeyond #Netflix, 🇰...</td>\n",
       "      <td>1355613955964743682</td>\n",
       "      <td>['Kdrama', 'Netflix']</td>\n",
       "      <td>2151814885</td>\n",
       "      <td>NaN</td>\n",
       "      <td>False</td>\n",
       "      <td>en</td>\n",
       "      <td>NaN</td>\n",
       "      <td>NaN</td>\n",
       "    </tr>\n",
       "  </tbody>\n",
       "</table>\n",
       "</div>"
      ],
      "text/plain": [
       "                     date_created  \\\n",
       "0  Sat Jan 30 22:54:16 +0000 2021   \n",
       "1  Sat Jan 30 22:36:21 +0000 2021   \n",
       "2  Sat Jan 30 21:43:19 +0000 2021   \n",
       "3  Sat Jan 30 20:33:08 +0000 2021   \n",
       "4  Sat Jan 30 20:28:47 +0000 2021   \n",
       "\n",
       "                                          tweet_text             tweet_id  \\\n",
       "0  RT @sakuratoffee: Just finished Memories of th...  1355650566492463104   \n",
       "1  Just finished Memories of the Alhambra on #Net...  1355646057657622530   \n",
       "2  Damn #theuncannyencounter how can you do that ...  1355632713399562244   \n",
       "3  RT @s_l1485: 👋🏻👋🏻 HELLOOOOO ‼️‼️\\n⬇️⬇️ Eyes he...  1355615050866651138   \n",
       "4  #Kdrama news (Jan 29 21)\\n\\nBeyond #Netflix, 🇰...  1355613955964743682   \n",
       "\n",
       "                                            hashtags             user_id  \\\n",
       "0                                        ['Netflix']  955271515959975936   \n",
       "1                                        ['Netflix']  755854750948663297   \n",
       "2  ['theuncannyencounter', 'netflix', 'koreandram...  863035493423951873   \n",
       "3                                                 []           163389449   \n",
       "4                              ['Kdrama', 'Netflix']          2151814885   \n",
       "\n",
       "               location  retweeted lang  \\\n",
       "0  Dublin City, Ireland       True   en   \n",
       "1      Lewisham, London      False   en   \n",
       "2                  Here      False   en   \n",
       "3            Cebu, City       True   en   \n",
       "4                   NaN      False   en   \n",
       "\n",
       "                                      retweeted_text retweeted_hashtags  \n",
       "0  Just finished Memories of the Alhambra on #Net...        ['Netflix']  \n",
       "1                                                NaN                NaN  \n",
       "2                                                NaN                NaN  \n",
       "3  👋🏻👋🏻 HELLOOOOO ‼️‼️\\n⬇️⬇️ Eyes here 👀 \\n \\n🤩WA...                 []  \n",
       "4                                                NaN                NaN  "
      ]
     },
     "execution_count": 2,
     "metadata": {},
     "output_type": "execute_result"
    }
   ],
   "source": [
    "#Reading the csv into a dataframe\n",
    "df = pd.read_csv('kdrama_tweets')\n",
    "\n",
    "#First five rows of the dataframe \n",
    "df.head()"
   ]
  },
  {
   "cell_type": "markdown",
   "metadata": {},
   "source": [
    "## Data cleaning and data preprocessing"
   ]
  },
  {
   "cell_type": "code",
   "execution_count": 3,
   "metadata": {},
   "outputs": [],
   "source": [
    "#Dropping duplicated rows\n",
    "df.drop_duplicates('tweet_id', keep = 'first', inplace = True, ignore_index = True)\n",
    "\n",
    "#Dropping the location column because \n",
    "#it is not relevant for the analysis\n",
    "df.drop('location', axis = 'columns', inplace = True)"
   ]
  },
  {
   "cell_type": "code",
   "execution_count": 4,
   "metadata": {},
   "outputs": [],
   "source": [
    "#Converting the 'date_created' column to datetime\n",
    "df['date_created'] = pd.to_datetime(df.date_created, dayfirst = True)\n",
    "\n",
    "#Creating the day column\n",
    "df['day'] = df.date_created.dt.day_name()\n",
    "\n",
    "#Creating a column with the day as an int\n",
    "df['day_number'] = df.date_created.dt.weekday"
   ]
  },
  {
   "cell_type": "code",
   "execution_count": 5,
   "metadata": {},
   "outputs": [],
   "source": [
    "#Removing the new line from the tweet_text\n",
    "df['tweet_text' ] = df.tweet_text.str.replace('\\n', ' ')"
   ]
  },
  {
   "cell_type": "code",
   "execution_count": 6,
   "metadata": {
    "scrolled": true
   },
   "outputs": [],
   "source": [
    "def get_drama(hashtags):\n",
    "    \"\"\" This function finds the hashtags of dramas \n",
    "    that aired in 2020 from a list of hashtags.\n",
    "    It then returns the hashtag if the drama \n",
    "    is in the list or returns np.nan if it is \n",
    "    not in the list\"\"\"\n",
    "    \n",
    "    #Converting the string representation \n",
    "    #of the list to a list\n",
    "    hashtags = hashtags.replace('\\'', '\"')\n",
    "    hashtags_list = json.loads(hashtags)\n",
    "    \n",
    "    #Only checking for a drama if the \n",
    "    #hashtags_list is not null or empty\n",
    "    if len(hashtags_list) > 0 or hashtags_list == np.nan:\n",
    "        hashtags_list =[hashtag.lower() for hashtag in hashtags_list]\n",
    "        \n",
    "\n",
    "        #Converting the list to a set\n",
    "        hashtags_set = set(hashtags_list)\n",
    "\n",
    "        drama_hashtags = {'alovesobeautiful', 'dodosolsollalasol', 'extracurricular',\n",
    "                          'gracefulfriends', 'hibyemama', 'hospitalplaylist','hyena',\n",
    "                          'itaewonclass', 'itsokaytonotbeokay', 'lovealarm',\n",
    "                          'lovestruckinthecity', 'myhololove','mysticpopupbar',\n",
    "                          'privatelives', 'recordofyouth', 'rugal', 'runon',\n",
    "                          'startup', 'sweethome', 'thegooddetective',\n",
    "                          'thekingeternalmonarch', 'theschoolnursefiles',\n",
    "                          'theuncannyencounter', 'wasitlove'}\n",
    "\n",
    "        drama = hashtags_set.intersection(drama_hashtags)\n",
    "\n",
    "        if len(drama) == 1:\n",
    "            for item in drama:\n",
    "                return str(item)\n",
    "    else:\n",
    "        return np.nan"
   ]
  },
  {
   "cell_type": "code",
   "execution_count": 7,
   "metadata": {
    "scrolled": false
   },
   "outputs": [],
   "source": [
    "#Creating the column with the drama hashtags\n",
    "df['drama'] = df.hashtags.apply(get_drama)"
   ]
  },
  {
   "cell_type": "code",
   "execution_count": 8,
   "metadata": {},
   "outputs": [],
   "source": [
    "#Add the hashtags for the '#theuncannyencounter'\n",
    "#and '#runon' because these dramas did not work\n",
    "#in the get_drama function\n",
    "df.loc[df.drama.isnull(), 'drama'] = df.loc[df.drama.isnull(), 'hashtags'].apply(lambda x: 'theuncannyencounter' if 'theuncannyencounter' in x else np.nan)\n",
    "df.loc[df.drama.isnull(), 'drama'] = df.loc[df.drama.isnull(), 'hashtags'].apply(lambda x: 'runon' if 'runon' in x else np.nan)"
   ]
  },
  {
   "cell_type": "code",
   "execution_count": 9,
   "metadata": {},
   "outputs": [],
   "source": [
    "#A list of Korean drama that aired on\n",
    "#Netflix in 2020\n",
    "drama_list = ['a love so beautiful', 'do do sol sol la la sol',\n",
    "          'extracurricular', 'graceful friends', 'hi bye mama',\n",
    "          'hospital playlist', 'hyena', 'itaewon class',\n",
    "          'its okay to not be okay', 'lovestruck in the city', \n",
    "          'my holo love', 'mystic popupbar', 'private lives',\n",
    "          'record of youth', 'rugal', 'run on', 'start up',\n",
    "          'sweet home', 'the good detective', 'the king eternal monarch',\n",
    "          'the school nurse files', 'the uncanny encounter', 'was it love']\n",
    "\n",
    "#This column returns True is the drama is in \n",
    "#the tweet_text, but not as a hashtag or \n",
    "#False if the drama is not in the tweet\n",
    "df['tweet_text_drama'] = df.tweet_text.str.lower().str.contains('|'.join(drama_list))"
   ]
  },
  {
   "cell_type": "code",
   "execution_count": 10,
   "metadata": {},
   "outputs": [],
   "source": [
    "def get_sentiment(word):\n",
    "    \"\"\"This function uses a list of positive \n",
    "    and negative words to find in one of \n",
    "    the words are in a sentence. If the \n",
    "    sentence does not contain positive\n",
    "    or negative words, then it is neutral\"\"\"\n",
    "    \n",
    "    with open('positive-words.txt', 'r') as file:\n",
    "        positive_words = [line.strip() for line in file.readlines()[31:]]\n",
    "\n",
    "    with open('negative-words.txt', 'r') as file:\n",
    "        negative_words = [line.strip() for line in file.readlines()[31:]]\n",
    "    \n",
    "    if any(positive_word in word.lower() for positive_word in positive_words):\n",
    "        return 'Positive'\n",
    "    elif any(negative_word in word.lower() for negative_word in negative_words):\n",
    "        return 'Negative'\n",
    "    else:\n",
    "        return 'Neutral'"
   ]
  },
  {
   "cell_type": "code",
   "execution_count": 11,
   "metadata": {},
   "outputs": [],
   "source": [
    "#Creating a sentiment column for the tweet_text\n",
    "df['word_sentiment'] = df['tweet_text'].apply(get_sentiment)"
   ]
  },
  {
   "cell_type": "code",
   "execution_count": 12,
   "metadata": {},
   "outputs": [],
   "source": [
    "def drama_in_tweet(text):\n",
    "    \n",
    "    \"\"\"This function tries to find a drama in the\n",
    "    tweet text and return the drama if it is in the \n",
    "    tweet or np.nan if the drama is not in the tweet.\"\"\"\n",
    "    \n",
    "    #A list of Korean drama that aired on\n",
    "    #Netflix in 2020\n",
    "    drama_list = ['a love so beautiful', 'do do sol sol la la sol',\n",
    "          'extracurricular', 'graceful friends', 'hi bye mama',\n",
    "          'hospital playlist', 'hyena', 'itaewon class',\n",
    "          'its okay to not be okay', \n",
    "          'lovestruck in the city', 'my holo love',\n",
    "          'mystic popupbar', 'private lives','record of youth', \n",
    "          'rugal', 'run on', 'start up','sweet home',\n",
    "          'the good detective', 'the king eternal monarch',\n",
    "          'the school nurse files', 'the uncanny encounter', 'was it love']\n",
    "    \n",
    "    #Checking if the sentence contains a \n",
    "    #string of the dramas that aired in 2020\n",
    "    drama_text = []\n",
    "    for drama in drama_list:\n",
    "        if drama in text.lower():\n",
    "            drama_text.append(drama)\n",
    "        else:\n",
    "            pass\n",
    "        \n",
    "    #Capitalizing the drama    \n",
    "    if len(drama_text) > 0:\n",
    "        return drama_text[len(drama_text) - 1].capitalize()\n",
    "    else:\n",
    "        return np.nan"
   ]
  },
  {
   "cell_type": "code",
   "execution_count": 13,
   "metadata": {},
   "outputs": [],
   "source": [
    "#Creating the 'drama_in_tweet' column\n",
    "df['drama_in_tweet'] = df.tweet_text.apply(drama_in_tweet)"
   ]
  },
  {
   "cell_type": "code",
   "execution_count": 14,
   "metadata": {},
   "outputs": [],
   "source": [
    "def get_emoji_sentiment(tweet_text):\n",
    "    \"\"\" This function returns the sentiment \n",
    "    of the tweets based on the emojis. The sentiment\n",
    "    is based on the 'face' emojis used in a tweet.\"\"\"\n",
    "    \n",
    "    #Decoding the tweets to get emojis as text\n",
    "    text = emojis.decode(tweet_text)\n",
    "    \n",
    "    #List of negative emojis\n",
    "    negative_emojis = ['disappointed', 'grimacing', 'roll_eyes',\n",
    "                       'sneezing_face', 'sob', 'unamused',\n",
    "                       'weary', 'woman_facepalming']\n",
    "\n",
    "    #List of neutral emojois\n",
    "    neutral_emojis = ['flushed', 'hand_over_mouth', 'innocent', 'thinking'] \n",
    "\n",
    "    #List of positive emojis\n",
    "    positive_emojis = ['blush', 'grin', 'heart_eyes', 'hugs', 'joy',\n",
    "                       'kissing_closed_eyes', 'kissing_heart',\n",
    "                       'partying_face', 'relieved', 'rofl',\n",
    "                       'satisfied', 'star_struck',\n",
    "                       'stuck_out_tongue', 'sunglasses',\n",
    "                       'sweat_smile', 'yum']\n",
    "    \n",
    "    other_emojis = ['100', 'arrow_down', 'bangbang', 'bar_chart',\n",
    "                    'clapper', 'eyes', 'film_projector', 'fire',\n",
    "                    'heart', 'house', 'kr', 'love_letter', 'ok_hand',\n",
    "                    'paperclip', 'pill', 'point_down', 'popcorn',\n",
    "                    'pray', 'purple_heart','raised_hands',\n",
    "                    'rotating_light', 'see_no_evil',\n",
    "                    'small_blue_diamond', 'small_orange_diamond',\n",
    "                    'sparkles', 'spiral_calendar', 'thumbsup', 'tv',\n",
    "                    'two_hearts', 'wave', 'white_heart', 'woman_facepalming']\n",
    "\n",
    "    #Counting the number of positive emojis in a tweet\n",
    "    positive = 0\n",
    "    for positive_emoji in positive_emojis:\n",
    "        positive_count = text.count(positive_emoji)\n",
    "        positive += positive_count\n",
    "\n",
    "    #Counting the number of neutral emojis in a tweet\n",
    "    neutral = 0\n",
    "    for neutral_emoji in neutral_emojis:\n",
    "        neutral_count = text.count(neutral_emoji)\n",
    "        neutral += neutral_count\n",
    "\n",
    "    #Counting the number of negative emojis in a tweet\n",
    "    negative = 0\n",
    "    for negative_emoji in negative_emojis:\n",
    "        negative_count = text.count(negative_emoji)\n",
    "        negative += negative_count\n",
    "        \n",
    "    #Counting the number of other emojis in a tweet\n",
    "    other = 0\n",
    "    for other_emoji in other_emojis:\n",
    "        other_count = text.count(other_emoji)\n",
    "        other += other_count\n",
    "    \n",
    "    #Sentiment is positive if the tweet has\n",
    "    #mostly positive emojis\n",
    "    if (positive > neutral) and (positive > negative) and (positive > other):\n",
    "        return 'Positive'\n",
    "    \n",
    "    #If the tweet has negative emojis, it is positive\n",
    "    elif negative > 0:\n",
    "            return 'Negative' \n",
    "    \n",
    "    #Tweet emojis are neutral \n",
    "    else:\n",
    "        return 'Neutral'"
   ]
  },
  {
   "cell_type": "code",
   "execution_count": 15,
   "metadata": {},
   "outputs": [],
   "source": [
    "#Creating the emoji_sentiment column\n",
    "df['emoji_sentiment'] = df.tweet_text.apply(get_emoji_sentiment)"
   ]
  },
  {
   "cell_type": "code",
   "execution_count": 16,
   "metadata": {},
   "outputs": [],
   "source": [
    "def get_word_counts(words_list):\n",
    "    \"\"\"This function counts how many times\n",
    "    a word was used in all of the tweets in the dataframe.\"\"\"\n",
    "    \n",
    "    #Adding the word and the number of times\n",
    "    #it appears in all of the tweets\n",
    "    word_dict = {}    \n",
    "    for row in tuple(df.tweet_text.items()):\n",
    "        text = row[1]\n",
    "\n",
    "        for word in words_list:\n",
    "            word_count = text.count(word)\n",
    "            if word in word_dict:\n",
    "                word_dict[word] += word_count\n",
    "            else:\n",
    "                word_dict[word] = word_count\n",
    "    \n",
    "    #Reducing the word_dict dictionary\n",
    "    #to only include words with or more\n",
    "    #appearance\n",
    "    popular_words = {}\n",
    "    for key, value in word_dict.items():\n",
    "        if value > 0:\n",
    "            key = key.capitalize()\n",
    "            popular_words[key] = value\n",
    "    return popular_words"
   ]
  },
  {
   "cell_type": "code",
   "execution_count": 17,
   "metadata": {
    "scrolled": true
   },
   "outputs": [],
   "source": [
    "#A column for whether or not the tweet contained the \n",
    "#hashtag '#kdrama'\n",
    "df['kdrama'] = df.hashtags.apply(lambda x: 1 if 'kdrama' in x.lower() else 0)"
   ]
  },
  {
   "cell_type": "code",
   "execution_count": 18,
   "metadata": {},
   "outputs": [],
   "source": [
    "#A column for whether or not the tweet contained the \n",
    "#hashtag '#koreandrama.'\n",
    "df['koreandrama'] = df.hashtags.apply(lambda x: 1 if 'koreandrama' in x.lower() else 0)"
   ]
  },
  {
   "cell_type": "code",
   "execution_count": 19,
   "metadata": {
    "scrolled": true
   },
   "outputs": [],
   "source": [
    "#Changing 'en' to 'English'\n",
    "df['lang'] = df.lang.replace('en', 'English')"
   ]
  },
  {
   "cell_type": "code",
   "execution_count": 20,
   "metadata": {
    "scrolled": true
   },
   "outputs": [],
   "source": [
    "#Counting the number of emojis in a tweet\n",
    "df['total_emojis'] = df.tweet_text.map(emojis.count)"
   ]
  },
  {
   "cell_type": "code",
   "execution_count": 21,
   "metadata": {},
   "outputs": [],
   "source": [
    "#A column for whether or not the tweet\n",
    "#contained the hashtag '#netflix'\n",
    "df['netflix'] = df.hashtags.apply(lambda x: 1 if 'netflix' in x.lower() else 0)"
   ]
  },
  {
   "cell_type": "code",
   "execution_count": 22,
   "metadata": {
    "scrolled": true
   },
   "outputs": [
    {
     "data": {
      "text/html": [
       "<div>\n",
       "<style scoped>\n",
       "    .dataframe tbody tr th:only-of-type {\n",
       "        vertical-align: middle;\n",
       "    }\n",
       "\n",
       "    .dataframe tbody tr th {\n",
       "        vertical-align: top;\n",
       "    }\n",
       "\n",
       "    .dataframe thead th {\n",
       "        text-align: right;\n",
       "    }\n",
       "</style>\n",
       "<table border=\"1\" class=\"dataframe\">\n",
       "  <thead>\n",
       "    <tr style=\"text-align: right;\">\n",
       "      <th></th>\n",
       "      <th>date_created</th>\n",
       "      <th>tweet_text</th>\n",
       "      <th>tweet_id</th>\n",
       "      <th>hashtags</th>\n",
       "      <th>user_id</th>\n",
       "      <th>retweeted</th>\n",
       "      <th>lang</th>\n",
       "      <th>retweeted_text</th>\n",
       "      <th>retweeted_hashtags</th>\n",
       "      <th>day</th>\n",
       "      <th>day_number</th>\n",
       "      <th>drama</th>\n",
       "      <th>tweet_text_drama</th>\n",
       "      <th>word_sentiment</th>\n",
       "      <th>drama_in_tweet</th>\n",
       "      <th>emoji_sentiment</th>\n",
       "      <th>kdrama</th>\n",
       "      <th>koreandrama</th>\n",
       "      <th>total_emojis</th>\n",
       "      <th>netflix</th>\n",
       "    </tr>\n",
       "  </thead>\n",
       "  <tbody>\n",
       "    <tr>\n",
       "      <th>0</th>\n",
       "      <td>2021-01-30 22:54:16+00:00</td>\n",
       "      <td>RT @sakuratoffee: Just finished Memories of th...</td>\n",
       "      <td>1355650566492463104</td>\n",
       "      <td>['Netflix']</td>\n",
       "      <td>955271515959975936</td>\n",
       "      <td>True</td>\n",
       "      <td>English</td>\n",
       "      <td>Just finished Memories of the Alhambra on #Net...</td>\n",
       "      <td>['Netflix']</td>\n",
       "      <td>Saturday</td>\n",
       "      <td>5</td>\n",
       "      <td>NaN</td>\n",
       "      <td>False</td>\n",
       "      <td>Positive</td>\n",
       "      <td>NaN</td>\n",
       "      <td>Neutral</td>\n",
       "      <td>0</td>\n",
       "      <td>0</td>\n",
       "      <td>0</td>\n",
       "      <td>1</td>\n",
       "    </tr>\n",
       "    <tr>\n",
       "      <th>1</th>\n",
       "      <td>2021-01-30 22:36:21+00:00</td>\n",
       "      <td>Just finished Memories of the Alhambra on #Net...</td>\n",
       "      <td>1355646057657622530</td>\n",
       "      <td>['Netflix']</td>\n",
       "      <td>755854750948663297</td>\n",
       "      <td>False</td>\n",
       "      <td>English</td>\n",
       "      <td>NaN</td>\n",
       "      <td>NaN</td>\n",
       "      <td>Saturday</td>\n",
       "      <td>5</td>\n",
       "      <td>NaN</td>\n",
       "      <td>False</td>\n",
       "      <td>Positive</td>\n",
       "      <td>NaN</td>\n",
       "      <td>Neutral</td>\n",
       "      <td>0</td>\n",
       "      <td>0</td>\n",
       "      <td>0</td>\n",
       "      <td>1</td>\n",
       "    </tr>\n",
       "  </tbody>\n",
       "</table>\n",
       "</div>"
      ],
      "text/plain": [
       "               date_created  \\\n",
       "0 2021-01-30 22:54:16+00:00   \n",
       "1 2021-01-30 22:36:21+00:00   \n",
       "\n",
       "                                          tweet_text             tweet_id  \\\n",
       "0  RT @sakuratoffee: Just finished Memories of th...  1355650566492463104   \n",
       "1  Just finished Memories of the Alhambra on #Net...  1355646057657622530   \n",
       "\n",
       "      hashtags             user_id  retweeted     lang  \\\n",
       "0  ['Netflix']  955271515959975936       True  English   \n",
       "1  ['Netflix']  755854750948663297      False  English   \n",
       "\n",
       "                                      retweeted_text retweeted_hashtags  \\\n",
       "0  Just finished Memories of the Alhambra on #Net...        ['Netflix']   \n",
       "1                                                NaN                NaN   \n",
       "\n",
       "        day  day_number drama  tweet_text_drama word_sentiment drama_in_tweet  \\\n",
       "0  Saturday           5   NaN             False       Positive            NaN   \n",
       "1  Saturday           5   NaN             False       Positive            NaN   \n",
       "\n",
       "  emoji_sentiment  kdrama  koreandrama  total_emojis  netflix  \n",
       "0         Neutral       0            0             0        1  \n",
       "1         Neutral       0            0             0        1  "
      ]
     },
     "execution_count": 22,
     "metadata": {},
     "output_type": "execute_result"
    }
   ],
   "source": [
    "#First 2 rows of the cleaned dataframe\n",
    "df.head(2)"
   ]
  },
  {
   "cell_type": "markdown",
   "metadata": {},
   "source": [
    "## Data analysis"
   ]
  },
  {
   "cell_type": "markdown",
   "metadata": {},
   "source": [
    "The API dif not return the whole tweet text, so some of the information is missing from the tweet_text."
   ]
  },
  {
   "cell_type": "markdown",
   "metadata": {},
   "source": [
    "### ***How many were retweets?***"
   ]
  },
  {
   "cell_type": "code",
   "execution_count": 23,
   "metadata": {},
   "outputs": [
    {
     "data": {
      "text/plain": [
       "409"
      ]
     },
     "execution_count": 23,
     "metadata": {},
     "output_type": "execute_result"
    }
   ],
   "source": [
    "df['retweeted'].sum()"
   ]
  },
  {
   "cell_type": "markdown",
   "metadata": {},
   "source": [
    "### ***How many were original tweets?***"
   ]
  },
  {
   "cell_type": "code",
   "execution_count": 24,
   "metadata": {},
   "outputs": [
    {
     "data": {
      "text/plain": [
       "87"
      ]
     },
     "execution_count": 24,
     "metadata": {},
     "output_type": "execute_result"
    }
   ],
   "source": [
    "df.shape[0] - df['retweeted'].sum()"
   ]
  },
  {
   "cell_type": "markdown",
   "metadata": {},
   "source": [
    "### ***What dramas that aired in 2020 had tweets with their hashtags?***"
   ]
  },
  {
   "cell_type": "code",
   "execution_count": 25,
   "metadata": {},
   "outputs": [
    {
     "data": {
      "image/png": "[encoded data removed]",
      "text/plain": [
       "<Figure size 576x360 with 1 Axes>"
      ]
     },
     "metadata": {
      "needs_background": "light"
     },
     "output_type": "display_data"
    }
   ],
   "source": [
    "#Counting the number of times a drama's\n",
    "#hashtag was used in the tweets\n",
    "dramas_by_hashtag = df.drama.value_counts().sort_values(ascending = True)\n",
    "\n",
    "#Creating the bar plot\n",
    "fig, ax = plt.subplots(figsize = (8,5))\n",
    "ax.barh(dramas_by_hashtag.index, dramas_by_hashtag)\n",
    "\n",
    "#Axis formatting\n",
    "ax.set_ylabel('Drama hashtag')\n",
    "ax.set_xlabel('Number of tweets')\n",
    "\n",
    "ax.spines[\"right\"].set_visible(False)\n",
    "ax.spines['top'].set_visible(False)\n",
    "\n",
    "#Setting the title\n",
    "fig.suptitle('Drama hashtags', fontsize = 15, fontweight = 'bold')\n",
    "plt.savefig('drama_hashtags.png', dpi =300)\n",
    "plt.show()"
   ]
  },
  {
   "cell_type": "markdown",
   "metadata": {},
   "source": [
    "# Which dramas were mentioned in the tweets, and how many times?"
   ]
  },
  {
   "cell_type": "code",
   "execution_count": 26,
   "metadata": {},
   "outputs": [
    {
     "data": {
      "image/png": "[encoded data removed]",
      "text/plain": [
       "<Figure size 432x288 with 1 Axes>"
      ]
     },
     "metadata": {
      "needs_background": "light"
     },
     "output_type": "display_data"
    }
   ],
   "source": [
    "#Counting the number of mentions\n",
    "drama_in_tweet_df = df.loc[df.tweet_text_drama == True]\n",
    "drama_text_group = drama_in_tweet_df.groupby('drama_in_tweet', as_index = False)['tweet_id'].count()\n",
    "drama_text_group.rename(columns = {'tweet_id': 'num_tweets'}, inplace = True)\n",
    "drama_text_group = drama_text_group.sort_values('num_tweets', ascending = True)\n",
    "\n",
    "#Creating the bar plot\n",
    "fig, ax = plt.subplots()\n",
    "ax.barh(drama_text_group.drama_in_tweet, drama_text_group.num_tweets)\n",
    "\n",
    "#Axis formatting\n",
    "ax.set_ylabel('Drama')\n",
    "ax.set_xlabel('Number of tweets')\n",
    "\n",
    "ax.spines[\"right\"].set_visible(False)\n",
    "ax.spines['top'].set_visible(False)\n",
    "\n",
    "#Setting the title\n",
    "fig.suptitle('Number of tweets that mentioned a drama', fontsize = 15, fontweight = 'bold')\n",
    "plt.savefig('drama_in_tweets.png', dpi = 300)\n",
    "plt.show()"
   ]
  },
  {
   "cell_type": "markdown",
   "metadata": {},
   "source": [
    "### ***How many different emojis are used in tweets?***"
   ]
  },
  {
   "cell_type": "code",
   "execution_count": 27,
   "metadata": {
    "scrolled": false
   },
   "outputs": [
    {
     "data": {
      "image/png": "[encoded data removed]",
      "text/plain": [
       "<Figure size 720x504 with 1 Axes>"
      ]
     },
     "metadata": {
      "needs_background": "light"
     },
     "output_type": "display_data"
    }
   ],
   "source": [
    "#Creating a dataframe with the number of emojis \n",
    "#in each tweet\n",
    "emoji_count = df.groupby('total_emojis', as_index = False)['tweet_text'].count()\n",
    "\n",
    "#Renaming the 'tweet_text' column to 'num_tweets'\n",
    "emoji_count.rename(columns = {'tweet_text': 'num_tweets'})\n",
    "emoji_count['total_emojis'] = emoji_count['total_emojis'].astype('str')\n",
    "\n",
    "#Adding 'emojis' to the number of emojis\n",
    "emoji_count['total_emojis'] = emoji_count['total_emojis'].apply(lambda x: x + ' emojis')\n",
    "\n",
    "#Creating the bar plot\n",
    "fig, ax = plt.subplots(figsize = (10,7))\n",
    "ax.bar(emoji_count['total_emojis'], emoji_count['tweet_text'])\n",
    "\n",
    "#Axis formatting \n",
    "ax.set_xlabel('Number of emojis')\n",
    "ax.set_ylabel('Number of tweets')\n",
    "\n",
    "ax.spines[\"right\"].set_visible(False)\n",
    "ax.spines['top'].set_visible(False)\n",
    "\n",
    "#Setting the title\n",
    "fig.suptitle('Different number of emojis used in tweets', fontsize = 15, fontweight = 'bold')\n",
    "plt.savefig('emojis_in_tweets.png', dpi = 300)\n",
    "plt.show()"
   ]
  },
  {
   "cell_type": "markdown",
   "metadata": {},
   "source": [
    "### ***How many tweets used the #kdrama or #koreandrama***?"
   ]
  },
  {
   "cell_type": "code",
   "execution_count": 28,
   "metadata": {},
   "outputs": [
    {
     "data": {
      "image/png": "[encoded data removed]",
      "text/plain": [
       "<Figure size 432x288 with 1 Axes>"
      ]
     },
     "metadata": {
      "needs_background": "light"
     },
     "output_type": "display_data"
    }
   ],
   "source": [
    "#Getting the number of hashtags of the tweets\n",
    "hashtag_count = df[['kdrama', 'koreandrama']].sum()\n",
    "\n",
    "#Creating the bar plot\n",
    "fig, ax = plt.subplots(figsize = (6, 4))\n",
    "ax.bar(hashtag_count.index, hashtag_count)\n",
    "\n",
    "#Axis formatting\n",
    "ax.set_xlabel('Hashtags')\n",
    "ax.set_ylabel('Number of tweets')\n",
    "\n",
    "ax.spines[\"right\"].set_visible(False)\n",
    "ax.spines['top'].set_visible(False)\n",
    "\n",
    "#Setting the title\n",
    "fig.suptitle('Number of tweets that used #kdrama, #koreandrama and #netflix', fontsize = 15, fontweight = 'bold')\n",
    "plt.show()"
   ]
  },
  {
   "cell_type": "markdown",
   "metadata": {},
   "source": [
    "'#kdrama' was used more often than '#koreandrama.' However, because the API did not return all of the tweet text, this does not completely represent all of the hashtags used. "
   ]
  },
  {
   "cell_type": "markdown",
   "metadata": {},
   "source": [
    "### ***How tweets contained positive, negative and neutral emojis?***"
   ]
  },
  {
   "cell_type": "code",
   "execution_count": 29,
   "metadata": {
    "scrolled": true
   },
   "outputs": [
    {
     "data": {
      "image/png": "[encoded data removed]",
      "text/plain": [
       "<Figure size 432x288 with 1 Axes>"
      ]
     },
     "metadata": {
      "needs_background": "light"
     },
     "output_type": "display_data"
    }
   ],
   "source": [
    "#Counting the sentiment of the tweets\n",
    "emoji_sentiment = df['emoji_sentiment'].value_counts()\n",
    "\n",
    "#Creating the bar graph\n",
    "fig, ax = plt.subplots()\n",
    "ax.bar(emoji_sentiment.index, emoji_sentiment)\n",
    "\n",
    "#Axis formatting\n",
    "ax.set_ylabel('Number of tweets')\n",
    "ax.set_xlabel('Sentiment')\n",
    "\n",
    "ax.spines[\"right\"].set_visible(False)\n",
    "ax.spines['top'].set_visible(False)\n",
    "\n",
    "#Setting a title\n",
    "fig.suptitle('Number of tweets by emoji sentiment', fontsize = 15, fontweight = 'bold')\n",
    "plt.savefig('emoji_sentiment.png', dpi = 300)\n",
    "plt.show()"
   ]
  },
  {
   "cell_type": "markdown",
   "metadata": {},
   "source": [
    "### ***What was the sentiment of the tweets?***"
   ]
  },
  {
   "cell_type": "code",
   "execution_count": 30,
   "metadata": {
    "scrolled": true
   },
   "outputs": [
    {
     "data": {
      "image/png": "[encoded data removed]",
      "text/plain": [
       "<Figure size 432x288 with 1 Axes>"
      ]
     },
     "metadata": {
      "needs_background": "light"
     },
     "output_type": "display_data"
    }
   ],
   "source": [
    "#Counting the sentiment\n",
    "sentiment_count = df['word_sentiment'].value_counts()\n",
    "\n",
    "#Creating the bar plot\n",
    "fig, ax = plt.subplots()\n",
    "ax.bar(sentiment_count.index, sentiment_count)\n",
    "\n",
    "#Axis formatting\n",
    "ax.set_xlabel('Sentiment')\n",
    "ax.set_ylabel('Number of tweets')\n",
    "\n",
    "ax.spines[\"right\"].set_visible(False)\n",
    "ax.spines['top'].set_visible(False)\n",
    "\n",
    "#Setting the title\n",
    "fig.suptitle('Text sentiment of tweets', fontsize = 15, fontweight = 'bold')\n",
    "plt.savefig('text_sentiment.png', dpi = 300)\n",
    "plt.show()"
   ]
  },
  {
   "cell_type": "markdown",
   "metadata": {},
   "source": [
    "### ***Number of tweets each day***"
   ]
  },
  {
   "cell_type": "code",
   "execution_count": 31,
   "metadata": {},
   "outputs": [
    {
     "data": {
      "image/png": "[encoded data removed]",
      "text/plain": [
       "<Figure size 432x288 with 1 Axes>"
      ]
     },
     "metadata": {
      "needs_background": "light"
     },
     "output_type": "display_data"
    }
   ],
   "source": [
    "#Creating a dataframe with the number of tweets per day\n",
    "tweets_by_day = df.groupby(['day', 'day_number'], as_index = False)['tweet_id'].count()\n",
    "tweets_by_day = tweets_by_day.sort_values('day_number')\n",
    "tweets_by_day.rename(columns = {'tweet_id': 'num_tweets'}, inplace = True)\n",
    "\n",
    "#Creating the bar plot\n",
    "fig, ax = plt.subplots()\n",
    "ax.bar(tweets_by_day['day'], tweets_by_day['num_tweets'])\n",
    "\n",
    "#Axis formatting \n",
    "ax.set_xlabel('Weekday')\n",
    "ax.set_ylabel('Number of tweets')\n",
    "\n",
    "ax.spines[\"right\"].set_visible(False)\n",
    "ax.spines['top'].set_visible(False)\n",
    "\n",
    "#Setting a title\n",
    "fig.suptitle('Number of tweets each day', fontsize = 15, fontweight = 'bold')\n",
    "plt.savefig('tweets_per_day.png', dpi = 300)\n",
    "plt.show()"
   ]
  },
  {
   "cell_type": "code",
   "execution_count": 32,
   "metadata": {
    "scrolled": false
   },
   "outputs": [
    {
     "data": {
      "image/png": "[encoded data removed]",
      "text/plain": [
       "<Figure size 576x360 with 2 Axes>"
      ]
     },
     "metadata": {
      "needs_background": "light"
     },
     "output_type": "display_data"
    }
   ],
   "source": [
    "with open('positive-words.txt', 'r') as positive_file:\n",
    "    positive_words = [line.strip() for line in positive_file.readlines()[31:]]\n",
    "\n",
    "with open('negative-words.txt', 'r') as negative_file:\n",
    "    negative_words = [line.strip() for line in negative_file.readlines()[31:]]\n",
    "\n",
    "#Getting the count of positive words \n",
    "#and negative words used in all of the tweets\n",
    "positive_words = get_word_counts(positive_words)\n",
    "negative_words = get_word_counts(negative_words)\n",
    "\n",
    "#Converting the dictionaries to a series\n",
    "#and sorting the values in descending order\n",
    "positive_series = pd.Series(positive_words)\n",
    "positive_series = positive_series.sort_values(ascending = False)\n",
    "negative_series = pd.Series(negative_words)\n",
    "negative_series = negative_series.sort_values(ascending = False)\n",
    "\n",
    "#Creating the bar plots\n",
    "fig, (ax1, ax2) = plt.subplots(1,2, figsize = (8,5), sharey = True)\n",
    "ax1.bar(positive_series.head().index, positive_series.head())\n",
    "ax2.bar(negative_series.head().index, negative_series.head())\n",
    "\n",
    "#Axis formatting\n",
    "ax1.set_xlabel('Positive words')\n",
    "ax1.set_ylabel('Number of tweets')\n",
    "ax2.set_xlabel('Negative words')\n",
    "ax2.set_ylabel('')\n",
    "\n",
    "ax.spines[\"right\"].set_visible(False)\n",
    "ax.spines['top'].set_visible(False)\n",
    "\n",
    "#Setting the title\n",
    "fig.suptitle('The top 5 positive and negative words in tweets', fontsize = 15, fontweight = 'bold')\n",
    "plt.show()"
   ]
  },
  {
   "cell_type": "markdown",
   "metadata": {},
   "source": [
    "The 'positive-words.txt' and 'negative-words.txt' used in this notebook are from:\n",
    "\n",
    "Minqing Hu and Bing Liu. \"Mining and Summarizing Customer Reviews.\"<br/>\n",
    "&nbsp;&nbsp;&nbsp;&nbsp;Proceedings of the ACM SIGKDD International Conference on Knowledge<br/> \n",
    "&nbsp;&nbsp;&nbsp;&nbsp;Discovery and Data Mining (KDD-2004), Aug 22-25, 2004, Seattle,<br/> \n",
    "&nbsp;&nbsp;&nbsp;&nbsp;Washington, USA,\n",
    "\n",
    "Bing Liu, Minqing Hu and Junsheng Cheng. \"Opinion Observer: Analyzing<br/> \n",
    "&nbsp;&nbsp;&nbsp;&nbsp;and Comparing Opinions on the Web.\" Proceedings of the 14th<br/> \n",
    "&nbsp;&nbsp;&nbsp;&nbsp;International World Wide Web conference (WWW-2005), May 10-14,<br/> \n",
    "&nbsp;&nbsp;&nbsp;&nbsp;2005, Chiba, Japan.<br/>"
   ]
  }
 ],
 "metadata": {
  "authors": [
   {
    "name": "Nadine Mukondiwa"
   }
  ],
  "kernelspec": {
   "display_name": "Python 3",
   "language": "python",
   "name": "python3"
  },
  "language_info": {
   "codemirror_mode": {
    "name": "ipython",
    "version": 3
   },
   "file_extension": ".py",
   "mimetype": "text/x-python",
   "name": "python",
   "nbconvert_exporter": "python",
   "pygments_lexer": "ipython3",
   "version": "3.8.3"
  }
 },
 "nbformat": 4,
 "nbformat_minor": 4
}
